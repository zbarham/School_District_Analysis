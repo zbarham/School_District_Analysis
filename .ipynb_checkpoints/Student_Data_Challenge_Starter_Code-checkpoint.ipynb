{
 "cells": [
  {
   "cell_type": "markdown",
   "id": "9c960cd6-a10b-4e3d-ba23-fe7a3ef7ae95",
   "metadata": {},
   "source": [
    "### Import required dependencies"
   ]
  },
  {
   "cell_type": "code",
   "execution_count": 1,
   "id": "34266c40-c789-42cd-802f-83eedddc4138",
   "metadata": {},
   "outputs": [],
   "source": [
    "import pandas as pd\n",
    "import os\n",
    "import numpy as np"
   ]
  },
  {
   "cell_type": "markdown",
   "id": "a47f3bec-4c1a-4b1e-9747-546678c1bb82",
   "metadata": {},
   "source": [
    "## Deliverable 1: Collect the Data\n",
    "\n",
    "To collect the data that you’ll need, complete the following steps:\n",
    "\n",
    "1. Using the Pandas `read_csv` function and the `os` module, import the data from the `new_full_student_data.csv` file, and create a DataFrame called student_df. \n",
    "\n",
    "2. Use the head function to confirm that Pandas properly imported the data.\n"
   ]
  },
  {
   "cell_type": "code",
   "execution_count": 2,
   "id": "b9d76875-49a9-4591-83d6-2e784bffcb21",
   "metadata": {},
   "outputs": [],
   "source": [
    "# Create the path and import the data\n",
    "full_student_data = os.path.join('Resources/new_full_student_data.csv')\n",
    "student_df = pd.read_csv(full_student_data)"
   ]
  },
  {
   "cell_type": "code",
   "execution_count": 3,
   "id": "c73ce640-ae34-4d45-9714-40eb55855d94",
   "metadata": {},
   "outputs": [
    {
     "data": {
      "text/html": [
       "<div>\n",
       "<style scoped>\n",
       "    .dataframe tbody tr th:only-of-type {\n",
       "        vertical-align: middle;\n",
       "    }\n",
       "\n",
       "    .dataframe tbody tr th {\n",
       "        vertical-align: top;\n",
       "    }\n",
       "\n",
       "    .dataframe thead th {\n",
       "        text-align: right;\n",
       "    }\n",
       "</style>\n",
       "<table border=\"1\" class=\"dataframe\">\n",
       "  <thead>\n",
       "    <tr style=\"text-align: right;\">\n",
       "      <th></th>\n",
       "      <th>student_id</th>\n",
       "      <th>student_name</th>\n",
       "      <th>grade</th>\n",
       "      <th>school_name</th>\n",
       "      <th>reading_score</th>\n",
       "      <th>math_score</th>\n",
       "      <th>school_type</th>\n",
       "      <th>school_budget</th>\n",
       "    </tr>\n",
       "  </thead>\n",
       "  <tbody>\n",
       "    <tr>\n",
       "      <th>0</th>\n",
       "      <td>103880842</td>\n",
       "      <td>Travis Martin</td>\n",
       "      <td>9th</td>\n",
       "      <td>Sullivan High School</td>\n",
       "      <td>59.0</td>\n",
       "      <td>88.2</td>\n",
       "      <td>Public</td>\n",
       "      <td>961125</td>\n",
       "    </tr>\n",
       "    <tr>\n",
       "      <th>1</th>\n",
       "      <td>45069750</td>\n",
       "      <td>Michael Brown</td>\n",
       "      <td>9th</td>\n",
       "      <td>Dixon High School</td>\n",
       "      <td>94.7</td>\n",
       "      <td>73.5</td>\n",
       "      <td>Charter</td>\n",
       "      <td>870334</td>\n",
       "    </tr>\n",
       "    <tr>\n",
       "      <th>2</th>\n",
       "      <td>45024902</td>\n",
       "      <td>Gabriela Lucero</td>\n",
       "      <td>9th</td>\n",
       "      <td>Wagner High School</td>\n",
       "      <td>89.0</td>\n",
       "      <td>70.4</td>\n",
       "      <td>Public</td>\n",
       "      <td>846745</td>\n",
       "    </tr>\n",
       "    <tr>\n",
       "      <th>3</th>\n",
       "      <td>62582498</td>\n",
       "      <td>Susan Richardson</td>\n",
       "      <td>9th</td>\n",
       "      <td>Silva High School</td>\n",
       "      <td>69.7</td>\n",
       "      <td>80.3</td>\n",
       "      <td>Public</td>\n",
       "      <td>991918</td>\n",
       "    </tr>\n",
       "    <tr>\n",
       "      <th>4</th>\n",
       "      <td>16437227</td>\n",
       "      <td>Sherry Davis</td>\n",
       "      <td>11th</td>\n",
       "      <td>Bowers High School</td>\n",
       "      <td>NaN</td>\n",
       "      <td>27.5</td>\n",
       "      <td>Public</td>\n",
       "      <td>848324</td>\n",
       "    </tr>\n",
       "  </tbody>\n",
       "</table>\n",
       "</div>"
      ],
      "text/plain": [
       "   student_id      student_name grade           school_name  reading_score  \\\n",
       "0   103880842     Travis Martin   9th  Sullivan High School           59.0   \n",
       "1    45069750     Michael Brown   9th     Dixon High School           94.7   \n",
       "2    45024902   Gabriela Lucero   9th    Wagner High School           89.0   \n",
       "3    62582498  Susan Richardson   9th     Silva High School           69.7   \n",
       "4    16437227      Sherry Davis  11th    Bowers High School            NaN   \n",
       "\n",
       "   math_score school_type  school_budget  \n",
       "0        88.2      Public         961125  \n",
       "1        73.5     Charter         870334  \n",
       "2        70.4      Public         846745  \n",
       "3        80.3      Public         991918  \n",
       "4        27.5      Public         848324  "
      ]
     },
     "execution_count": 3,
     "metadata": {},
     "output_type": "execute_result"
    }
   ],
   "source": [
    "# Verify that the data was properly imported\n",
    "student_df.head()"
   ]
  },
  {
   "cell_type": "markdown",
   "id": "d7f4b183-8e6a-4d83-9d40-a5fd665ac07f",
   "metadata": {},
   "source": [
    "## Deliverable 2: Prepare the Data\n",
    "\n",
    "To prepare and clean your data for analysis, complete the following steps:\n",
    "    \n",
    "1. Check for and remove all rows with `NaN`, or missing, values in the student DataFrame. \n",
    "\n",
    "2. Check for and remove all duplicate rows in the student DataFrame.\n",
    "\n",
    "3. Use the `str.replace` function to remove the \"th\" from the grade levels in the grade column.\n",
    "\n",
    "4. Check data types using the `dtypes` property.\n",
    "\n",
    "5. Remove the \"th\" suffix from every value in the grade column using `str` and `replace`.\n",
    "\n",
    "6. Change the grade colum to the `int` type and verify column types.\n",
    "\n",
    "7. Use the head (and/or the tail) function to preview the DataFrame."
   ]
  },
  {
   "cell_type": "code",
   "execution_count": 4,
   "id": "9464841c",
   "metadata": {},
   "outputs": [
    {
     "data": {
      "text/plain": [
       "student_id       19514\n",
       "student_name     19514\n",
       "grade            19514\n",
       "school_name      19514\n",
       "reading_score    17546\n",
       "math_score       18532\n",
       "school_type      19514\n",
       "school_budget    19514\n",
       "dtype: int64"
      ]
     },
     "execution_count": 4,
     "metadata": {},
     "output_type": "execute_result"
    }
   ],
   "source": [
    "# Check for null values\n",
    "student_df.count()"
   ]
  },
  {
   "cell_type": "code",
   "execution_count": 5,
   "id": "ab80d5e8-0294-459e-9d68-19d7fe98c75e",
   "metadata": {},
   "outputs": [
    {
     "data": {
      "text/plain": [
       "student_id       16667\n",
       "student_name     16667\n",
       "grade            16667\n",
       "school_name      16667\n",
       "reading_score    16667\n",
       "math_score       16667\n",
       "school_type      16667\n",
       "school_budget    16667\n",
       "dtype: int64"
      ]
     },
     "execution_count": 5,
     "metadata": {},
     "output_type": "execute_result"
    }
   ],
   "source": [
    "# Drop rows with null values and verify removal\n",
    "clean_student_df = student_df.dropna(how='any')\n",
    "clean_student_df.count()"
   ]
  },
  {
   "cell_type": "code",
   "execution_count": 6,
   "id": "2292509a-c429-45e2-aa62-bb0397091c76",
   "metadata": {},
   "outputs": [
    {
     "data": {
      "text/plain": [
       "61847231    4\n",
       "85544374    4\n",
       "69030736    4\n",
       "91500483    3\n",
       "59458098    3\n",
       "           ..\n",
       "82930266    1\n",
       "31959667    1\n",
       "72780950    1\n",
       "21085981    1\n",
       "34720657    1\n",
       "Name: student_id, Length: 14822, dtype: int64"
      ]
     },
     "execution_count": 6,
     "metadata": {},
     "output_type": "execute_result"
    }
   ],
   "source": [
    "# Check for duplicated rows\n",
    "clean_student_df[\"student_id\"].value_counts()"
   ]
  },
  {
   "cell_type": "code",
   "execution_count": 7,
   "id": "95c0c53e-602f-44a0-b72a-3383dcce09fc",
   "metadata": {},
   "outputs": [
    {
     "data": {
      "text/plain": [
       "student_id       14831\n",
       "student_name     14831\n",
       "grade            14831\n",
       "school_name      14831\n",
       "reading_score    14831\n",
       "math_score       14831\n",
       "school_type      14831\n",
       "school_budget    14831\n",
       "dtype: int64"
      ]
     },
     "execution_count": 7,
     "metadata": {},
     "output_type": "execute_result"
    }
   ],
   "source": [
    "# Drop duplicated rows and verify removal\n",
    "noDup_student_df = clean_student_df.drop_duplicates()\n",
    "noDup_student_df.count()"
   ]
  },
  {
   "cell_type": "code",
   "execution_count": 8,
   "id": "d04088bb-df5a-47b0-990a-c6127bfc9bfd",
   "metadata": {},
   "outputs": [
    {
     "name": "stdout",
     "output_type": "stream",
     "text": [
      "student_id         int64\n",
      "student_name      object\n",
      "grade             object\n",
      "school_name       object\n",
      "reading_score    float64\n",
      "math_score       float64\n",
      "school_type       object\n",
      "school_budget      int64\n",
      "dtype: object\n"
     ]
    }
   ],
   "source": [
    "# Check data types\n",
    "# alternative noDup_student_df.info()\n",
    "print(noDup_student_df.dtypes)"
   ]
  },
  {
   "cell_type": "code",
   "execution_count": 9,
   "id": "f1e2d12e-c56d-47bc-b9a0-01f97400c4a3",
   "metadata": {},
   "outputs": [
    {
     "data": {
      "text/plain": [
       "10th    4398\n",
       "9th     4132\n",
       "11th    3197\n",
       "12th    3104\n",
       "Name: grade, dtype: int64"
      ]
     },
     "execution_count": 9,
     "metadata": {},
     "output_type": "execute_result"
    }
   ],
   "source": [
    "# Examine the grade column to understand why it is not an int\n",
    "noDup_student_df['grade'].value_counts()"
   ]
  },
  {
   "cell_type": "code",
   "execution_count": 10,
   "id": "29b32018",
   "metadata": {},
   "outputs": [
    {
     "name": "stdout",
     "output_type": "stream",
     "text": [
      "0         9\n",
      "1         9\n",
      "2         9\n",
      "3         9\n",
      "5         9\n",
      "         ..\n",
      "19508    10\n",
      "19509    12\n",
      "19511    11\n",
      "19512    11\n",
      "19513    12\n",
      "Name: grade, Length: 14831, dtype: object\n"
     ]
    },
    {
     "name": "stderr",
     "output_type": "stream",
     "text": [
      "C:\\Users\\zlink\\anaconda3\\envs\\PythonData\\lib\\site-packages\\ipykernel_launcher.py:3: FutureWarning: The default value of regex will change from True to False in a future version.\n",
      "  This is separate from the ipykernel package so we can avoid doing imports until\n"
     ]
    }
   ],
   "source": [
    "# Remove the non-numeric characters and verify the contents of the column\n",
    "gradeConvert_student_df = noDup_student_df.copy()\n",
    "gradeConvert_student_df['grade'] = gradeConvert_student_df['grade'].str.replace(r'\\D+', '')\n",
    "print(gradeConvert_student_df['grade'])"
   ]
  },
  {
   "cell_type": "code",
   "execution_count": 11,
   "id": "09ebbec2-c5a7-49a9-9a21-f86c0f4c3791",
   "metadata": {},
   "outputs": [
    {
     "name": "stdout",
     "output_type": "stream",
     "text": [
      "student_id         int64\n",
      "student_name      object\n",
      "grade              int64\n",
      "school_name       object\n",
      "reading_score    float64\n",
      "math_score       float64\n",
      "school_type       object\n",
      "school_budget      int64\n",
      "dtype: object\n"
     ]
    }
   ],
   "source": [
    "# Change the grade column to the int type and verify column types\n",
    "gradeConvert_student_df['grade'] = gradeConvert_student_df['grade'].astype(np.int64)\n",
    "print(gradeConvert_student_df.dtypes)"
   ]
  },
  {
   "cell_type": "markdown",
   "id": "e52c4a6f-7dd7-4bb6-8f75-5f0995e7b32b",
   "metadata": {},
   "source": [
    "## Deliverable 3: Summarize the Data\n",
    "\n",
    "Describe the data using summary statistics on the data as a whole and on individual columns.\n",
    "\n",
    "1. Generate the summary statistics for each DataFrame by using the `describe` function.\n",
    "\n",
    "2. Display the mean math score using the `mean` function. \n",
    "\n",
    "2. Store the minimum reading score as `min_reading_score`."
   ]
  },
  {
   "cell_type": "code",
   "execution_count": 12,
   "id": "ac4fc0af-babd-47fb-9962-66727ea0dc28",
   "metadata": {},
   "outputs": [
    {
     "data": {
      "text/html": [
       "<div>\n",
       "<style scoped>\n",
       "    .dataframe tbody tr th:only-of-type {\n",
       "        vertical-align: middle;\n",
       "    }\n",
       "\n",
       "    .dataframe tbody tr th {\n",
       "        vertical-align: top;\n",
       "    }\n",
       "\n",
       "    .dataframe thead th {\n",
       "        text-align: right;\n",
       "    }\n",
       "</style>\n",
       "<table border=\"1\" class=\"dataframe\">\n",
       "  <thead>\n",
       "    <tr style=\"text-align: right;\">\n",
       "      <th></th>\n",
       "      <th>student_id</th>\n",
       "      <th>grade</th>\n",
       "      <th>reading_score</th>\n",
       "      <th>math_score</th>\n",
       "      <th>school_budget</th>\n",
       "    </tr>\n",
       "  </thead>\n",
       "  <tbody>\n",
       "    <tr>\n",
       "      <th>count</th>\n",
       "      <td>1.483100e+04</td>\n",
       "      <td>14831.000000</td>\n",
       "      <td>14831.000000</td>\n",
       "      <td>14831.000000</td>\n",
       "      <td>14831.000000</td>\n",
       "    </tr>\n",
       "    <tr>\n",
       "      <th>mean</th>\n",
       "      <td>6.975296e+07</td>\n",
       "      <td>10.355539</td>\n",
       "      <td>72.357865</td>\n",
       "      <td>64.675733</td>\n",
       "      <td>893742.749107</td>\n",
       "    </tr>\n",
       "    <tr>\n",
       "      <th>std</th>\n",
       "      <td>3.452909e+07</td>\n",
       "      <td>1.097728</td>\n",
       "      <td>15.224590</td>\n",
       "      <td>15.844093</td>\n",
       "      <td>53938.066467</td>\n",
       "    </tr>\n",
       "    <tr>\n",
       "      <th>min</th>\n",
       "      <td>1.000906e+07</td>\n",
       "      <td>9.000000</td>\n",
       "      <td>10.500000</td>\n",
       "      <td>3.700000</td>\n",
       "      <td>817615.000000</td>\n",
       "    </tr>\n",
       "    <tr>\n",
       "      <th>25%</th>\n",
       "      <td>3.984433e+07</td>\n",
       "      <td>9.000000</td>\n",
       "      <td>62.200000</td>\n",
       "      <td>54.500000</td>\n",
       "      <td>846745.000000</td>\n",
       "    </tr>\n",
       "    <tr>\n",
       "      <th>50%</th>\n",
       "      <td>6.965978e+07</td>\n",
       "      <td>10.000000</td>\n",
       "      <td>73.800000</td>\n",
       "      <td>65.300000</td>\n",
       "      <td>893368.000000</td>\n",
       "    </tr>\n",
       "    <tr>\n",
       "      <th>75%</th>\n",
       "      <td>9.927449e+07</td>\n",
       "      <td>11.000000</td>\n",
       "      <td>84.000000</td>\n",
       "      <td>76.000000</td>\n",
       "      <td>956438.000000</td>\n",
       "    </tr>\n",
       "    <tr>\n",
       "      <th>max</th>\n",
       "      <td>1.299997e+08</td>\n",
       "      <td>12.000000</td>\n",
       "      <td>100.000000</td>\n",
       "      <td>100.000000</td>\n",
       "      <td>991918.000000</td>\n",
       "    </tr>\n",
       "  </tbody>\n",
       "</table>\n",
       "</div>"
      ],
      "text/plain": [
       "         student_id         grade  reading_score    math_score  school_budget\n",
       "count  1.483100e+04  14831.000000   14831.000000  14831.000000   14831.000000\n",
       "mean   6.975296e+07     10.355539      72.357865     64.675733  893742.749107\n",
       "std    3.452909e+07      1.097728      15.224590     15.844093   53938.066467\n",
       "min    1.000906e+07      9.000000      10.500000      3.700000  817615.000000\n",
       "25%    3.984433e+07      9.000000      62.200000     54.500000  846745.000000\n",
       "50%    6.965978e+07     10.000000      73.800000     65.300000  893368.000000\n",
       "75%    9.927449e+07     11.000000      84.000000     76.000000  956438.000000\n",
       "max    1.299997e+08     12.000000     100.000000    100.000000  991918.000000"
      ]
     },
     "execution_count": 12,
     "metadata": {},
     "output_type": "execute_result"
    }
   ],
   "source": [
    "# Display summary statistics for the DataFrame\n",
    "gradeConvert_student_df.describe()"
   ]
  },
  {
   "cell_type": "code",
   "execution_count": 13,
   "id": "d94aa5d1",
   "metadata": {},
   "outputs": [
    {
     "data": {
      "text/plain": [
       "64.67573326141189"
      ]
     },
     "execution_count": 13,
     "metadata": {},
     "output_type": "execute_result"
    }
   ],
   "source": [
    "# Display the mean math score using the mean function\n",
    "gradeConvert_student_df['math_score'].mean()"
   ]
  },
  {
   "cell_type": "code",
   "execution_count": 14,
   "id": "37ecf181",
   "metadata": {},
   "outputs": [
    {
     "name": "stdout",
     "output_type": "stream",
     "text": [
      "10.5\n"
     ]
    }
   ],
   "source": [
    "# Store the minimum reading score as min_reading_score\n",
    "min_reading_score = gradeConvert_student_df['reading_score'].min()\n",
    "print(min_reading_score)"
   ]
  },
  {
   "cell_type": "markdown",
   "id": "e871f21e-6077-4d70-9c3a-926759d46bed",
   "metadata": {},
   "source": [
    "## Deliverable 4: Drill Down into the Data\n",
    "\n",
    "Drill down to specific rows, columns, and subsets of the data.\n",
    "\n",
    "To drill down into the data, complete the following steps:\n",
    "\n",
    "1. Use `loc` to display the grade column.\n",
    "\n",
    "2. Use `iloc` to display the first 3 rows and columns 3, 4, and 5.\n",
    "\n",
    "3. Show the rows for grade nine using `loc`.\n",
    "\n",
    "4. Store the row with the minimum overall reading score as `min_reading_row` using `loc` and the `min_reading_score` found in Deliverable 3.\n",
    "\n",
    "5. Find the reading scores for the school and grade from the output of step three using `loc` with multiple conditional statements.\n",
    "\n",
    "6. Using conditional statements and `loc` or `iloc`, find the mean reading score for all students in grades 11 and 12 combined."
   ]
  },
  {
   "cell_type": "code",
   "execution_count": 15,
   "id": "78464611",
   "metadata": {},
   "outputs": [
    {
     "name": "stdout",
     "output_type": "stream",
     "text": [
      "0         9\n",
      "1         9\n",
      "2         9\n",
      "3         9\n",
      "5         9\n",
      "         ..\n",
      "19508    10\n",
      "19509    12\n",
      "19511    11\n",
      "19512    11\n",
      "19513    12\n",
      "Name: grade, Length: 14831, dtype: int64\n"
     ]
    }
   ],
   "source": [
    "# Use loc to display the grade column\n",
    "grade_data = gradeConvert_student_df.loc[:, 'grade']\n",
    "print(grade_data)"
   ]
  },
  {
   "cell_type": "code",
   "execution_count": 16,
   "id": "ff0fd7cb",
   "metadata": {},
   "outputs": [
    {
     "name": "stdout",
     "output_type": "stream",
     "text": [
      "            school_name  reading_score  math_score\n",
      "0  Sullivan High School           59.0        88.2\n",
      "1     Dixon High School           94.7        73.5\n",
      "2    Wagner High School           89.0        70.4\n"
     ]
    }
   ],
   "source": [
    "# Use `iloc` to display the first 3 rows and columns 3, 4, and 5.\n",
    "first_three_data = gradeConvert_student_df.iloc[:3, [3,4,5]]\n",
    "print(first_three_data)"
   ]
  },
  {
   "cell_type": "code",
   "execution_count": 17,
   "id": "edb8027e",
   "metadata": {},
   "outputs": [
    {
     "name": "stdout",
     "output_type": "stream",
     "text": [
      "         student_id   grade  reading_score   math_score  school_budget\n",
      "count  4.132000e+03  4132.0    4132.000000  4132.000000    4132.000000\n",
      "mean   6.979441e+07     9.0      69.236713    66.585624  898692.606002\n",
      "std    3.470565e+07     0.0      15.277354    16.661533   54891.596611\n",
      "min    1.000906e+07     9.0      17.900000     5.300000  817615.000000\n",
      "25%    3.953848e+07     9.0      59.000000    56.000000  846745.000000\n",
      "50%    6.984037e+07     9.0      70.050000    67.800000  893368.000000\n",
      "75%    9.939504e+07     9.0      80.500000    78.500000  957299.000000\n",
      "max    1.299997e+08     9.0      99.900000   100.000000  991918.000000\n"
     ]
    }
   ],
   "source": [
    "# Select the rows for grade nine and display their summary statistics using `loc` and `describe`.\n",
    "grade_nine_data = gradeConvert_student_df.loc[gradeConvert_student_df['grade'] == 9]\n",
    "print(grade_nine_data.describe())"
   ]
  },
  {
   "cell_type": "code",
   "execution_count": 18,
   "id": "e40b203d-6597-487a-82cf-157731148084",
   "metadata": {},
   "outputs": [
    {
     "name": "stdout",
     "output_type": "stream",
     "text": [
      "      student_id    student_name  grade        school_name  reading_score  \\\n",
      "3706    81758630  Matthew Thomas     10  Dixon High School           10.5   \n",
      "\n",
      "      math_score school_type  school_budget  \n",
      "3706        58.4     Charter         870334  \n"
     ]
    }
   ],
   "source": [
    "# Store the row with the minimum overall reading score as `min_reading_row`\n",
    "# using `loc` and the `min_reading_score` found in Deliverable 3.\n",
    "min_reading_row = gradeConvert_student_df.loc[gradeConvert_student_df['reading_score'] == min_reading_score]\n",
    "print(min_reading_row)"
   ]
  },
  {
   "cell_type": "code",
   "execution_count": 19,
   "id": "f4a44f87-acb8-423e-95ca-88e6f644eeb2",
   "metadata": {},
   "outputs": [
    {
     "data": {
      "text/html": [
       "<div>\n",
       "<style scoped>\n",
       "    .dataframe tbody tr th:only-of-type {\n",
       "        vertical-align: middle;\n",
       "    }\n",
       "\n",
       "    .dataframe tbody tr th {\n",
       "        vertical-align: top;\n",
       "    }\n",
       "\n",
       "    .dataframe thead th {\n",
       "        text-align: right;\n",
       "    }\n",
       "</style>\n",
       "<table border=\"1\" class=\"dataframe\">\n",
       "  <thead>\n",
       "    <tr style=\"text-align: right;\">\n",
       "      <th></th>\n",
       "      <th>school_name</th>\n",
       "      <th>reading_score</th>\n",
       "    </tr>\n",
       "  </thead>\n",
       "  <tbody>\n",
       "    <tr>\n",
       "      <th>45</th>\n",
       "      <td>Dixon High School</td>\n",
       "      <td>71.1</td>\n",
       "    </tr>\n",
       "    <tr>\n",
       "      <th>60</th>\n",
       "      <td>Dixon High School</td>\n",
       "      <td>59.5</td>\n",
       "    </tr>\n",
       "    <tr>\n",
       "      <th>69</th>\n",
       "      <td>Dixon High School</td>\n",
       "      <td>88.6</td>\n",
       "    </tr>\n",
       "    <tr>\n",
       "      <th>94</th>\n",
       "      <td>Dixon High School</td>\n",
       "      <td>81.5</td>\n",
       "    </tr>\n",
       "    <tr>\n",
       "      <th>100</th>\n",
       "      <td>Dixon High School</td>\n",
       "      <td>95.3</td>\n",
       "    </tr>\n",
       "    <tr>\n",
       "      <th>...</th>\n",
       "      <td>...</td>\n",
       "      <td>...</td>\n",
       "    </tr>\n",
       "    <tr>\n",
       "      <th>19283</th>\n",
       "      <td>Dixon High School</td>\n",
       "      <td>52.9</td>\n",
       "    </tr>\n",
       "    <tr>\n",
       "      <th>19306</th>\n",
       "      <td>Dixon High School</td>\n",
       "      <td>58.0</td>\n",
       "    </tr>\n",
       "    <tr>\n",
       "      <th>19344</th>\n",
       "      <td>Dixon High School</td>\n",
       "      <td>38.0</td>\n",
       "    </tr>\n",
       "    <tr>\n",
       "      <th>19368</th>\n",
       "      <td>Dixon High School</td>\n",
       "      <td>84.4</td>\n",
       "    </tr>\n",
       "    <tr>\n",
       "      <th>19445</th>\n",
       "      <td>Dixon High School</td>\n",
       "      <td>43.9</td>\n",
       "    </tr>\n",
       "  </tbody>\n",
       "</table>\n",
       "<p>569 rows × 2 columns</p>\n",
       "</div>"
      ],
      "text/plain": [
       "             school_name  reading_score\n",
       "45     Dixon High School           71.1\n",
       "60     Dixon High School           59.5\n",
       "69     Dixon High School           88.6\n",
       "94     Dixon High School           81.5\n",
       "100    Dixon High School           95.3\n",
       "...                  ...            ...\n",
       "19283  Dixon High School           52.9\n",
       "19306  Dixon High School           58.0\n",
       "19344  Dixon High School           38.0\n",
       "19368  Dixon High School           84.4\n",
       "19445  Dixon High School           43.9\n",
       "\n",
       "[569 rows x 2 columns]"
      ]
     },
     "execution_count": 19,
     "metadata": {},
     "output_type": "execute_result"
    }
   ],
   "source": [
    "# Use loc with conditionals to select all reading scores from 10th graders at Dixon High School.\n",
    "dixon_10th_readingScores = gradeConvert_student_df.loc[(gradeConvert_student_df['grade'] == 10) & \n",
    "                                                       (gradeConvert_student_df['school_name'] == \"Dixon High School\"), \n",
    "                                                       [\"school_name\", \"reading_score\"]]\n",
    "dixon_10th_readingScores"
   ]
  },
  {
   "cell_type": "code",
   "execution_count": 20,
   "id": "d6c2a244-c8aa-4cf6-a1e2-ddace72666eb",
   "metadata": {},
   "outputs": [
    {
     "data": {
      "text/plain": [
       "74.10198815009859"
      ]
     },
     "execution_count": 20,
     "metadata": {},
     "output_type": "execute_result"
    }
   ],
   "source": [
    "# Find the mean reading score for all students in grades 11 and 12 combined.\n",
    "eleven_twelve_readingScore = (gradeConvert_student_df.loc[(gradeConvert_student_df['grade'] == 10) | \n",
    "                                                         (gradeConvert_student_df['grade'] == 11), \"reading_score\"]).mean()\n",
    "eleven_twelve_readingScore"
   ]
  },
  {
   "cell_type": "markdown",
   "id": "177ba341-9b50-4244-93fa-3646120daf51",
   "metadata": {},
   "source": [
    "## Deliverable 5: Make Comparisons Between District and Charter Schools\n",
    "\n",
    "Compare district vs charter schools for budget, size, and scores.\n",
    "\n",
    "Make comparisons within your data by completing the following steps:\n",
    "\n",
    "1. Using the `groupby` and `mean` functions, look at the average reading and math scores per school type.\n",
    "\n",
    "1. Using the `groupby` and `count` functions, find the total number of students at each school.\n",
    "\n",
    "2. Using the `groupby` and `mean` functions, find the average budget per grade for each school type."
   ]
  },
  {
   "cell_type": "code",
   "execution_count": 21,
   "id": "8eac115a-c392-446c-ad83-456d0f87eca7",
   "metadata": {},
   "outputs": [
    {
     "data": {
      "text/html": [
       "<div>\n",
       "<style scoped>\n",
       "    .dataframe tbody tr th:only-of-type {\n",
       "        vertical-align: middle;\n",
       "    }\n",
       "\n",
       "    .dataframe tbody tr th {\n",
       "        vertical-align: top;\n",
       "    }\n",
       "\n",
       "    .dataframe thead th {\n",
       "        text-align: right;\n",
       "    }\n",
       "</style>\n",
       "<table border=\"1\" class=\"dataframe\">\n",
       "  <thead>\n",
       "    <tr style=\"text-align: right;\">\n",
       "      <th></th>\n",
       "      <th>school_budget</th>\n",
       "    </tr>\n",
       "    <tr>\n",
       "      <th>school_type</th>\n",
       "      <th></th>\n",
       "    </tr>\n",
       "  </thead>\n",
       "  <tbody>\n",
       "    <tr>\n",
       "      <th>Charter</th>\n",
       "      <td>872625.656236</td>\n",
       "    </tr>\n",
       "    <tr>\n",
       "      <th>Public</th>\n",
       "      <td>911195.558251</td>\n",
       "    </tr>\n",
       "  </tbody>\n",
       "</table>\n",
       "</div>"
      ],
      "text/plain": [
       "             school_budget\n",
       "school_type               \n",
       "Charter      872625.656236\n",
       "Public       911195.558251"
      ]
     },
     "execution_count": 21,
     "metadata": {},
     "output_type": "execute_result"
    }
   ],
   "source": [
    "# Display the average budget for each school type by using the 'groupby' and 'mean' functions\n",
    "school_type_df = gradeConvert_student_df.groupby(['school_type'])\n",
    "average_budget_school = school_type_df[['school_budget']].mean()\n",
    "average_budget_school"
   ]
  },
  {
   "cell_type": "code",
   "execution_count": 22,
   "id": "a3ee96e8-d653-44b1-811f-979880649046",
   "metadata": {},
   "outputs": [
    {
     "data": {
      "text/html": [
       "<div>\n",
       "<style scoped>\n",
       "    .dataframe tbody tr th:only-of-type {\n",
       "        vertical-align: middle;\n",
       "    }\n",
       "\n",
       "    .dataframe tbody tr th {\n",
       "        vertical-align: top;\n",
       "    }\n",
       "\n",
       "    .dataframe thead th {\n",
       "        text-align: right;\n",
       "    }\n",
       "</style>\n",
       "<table border=\"1\" class=\"dataframe\">\n",
       "  <thead>\n",
       "    <tr style=\"text-align: right;\">\n",
       "      <th></th>\n",
       "      <th>student_count</th>\n",
       "    </tr>\n",
       "    <tr>\n",
       "      <th>school_name</th>\n",
       "      <th></th>\n",
       "    </tr>\n",
       "  </thead>\n",
       "  <tbody>\n",
       "    <tr>\n",
       "      <th>Montgomery High School</th>\n",
       "      <td>2038</td>\n",
       "    </tr>\n",
       "    <tr>\n",
       "      <th>Green High School</th>\n",
       "      <td>1961</td>\n",
       "    </tr>\n",
       "    <tr>\n",
       "      <th>Dixon High School</th>\n",
       "      <td>1583</td>\n",
       "    </tr>\n",
       "    <tr>\n",
       "      <th>Wagner High School</th>\n",
       "      <td>1541</td>\n",
       "    </tr>\n",
       "    <tr>\n",
       "      <th>Silva High School</th>\n",
       "      <td>1109</td>\n",
       "    </tr>\n",
       "    <tr>\n",
       "      <th>Woods High School</th>\n",
       "      <td>1052</td>\n",
       "    </tr>\n",
       "    <tr>\n",
       "      <th>Sullivan High School</th>\n",
       "      <td>971</td>\n",
       "    </tr>\n",
       "    <tr>\n",
       "      <th>Turner High School</th>\n",
       "      <td>846</td>\n",
       "    </tr>\n",
       "    <tr>\n",
       "      <th>Bowers High School</th>\n",
       "      <td>803</td>\n",
       "    </tr>\n",
       "    <tr>\n",
       "      <th>Fisher High School</th>\n",
       "      <td>798</td>\n",
       "    </tr>\n",
       "    <tr>\n",
       "      <th>Richard High School</th>\n",
       "      <td>551</td>\n",
       "    </tr>\n",
       "    <tr>\n",
       "      <th>Campos High School</th>\n",
       "      <td>541</td>\n",
       "    </tr>\n",
       "    <tr>\n",
       "      <th>Odonnell High School</th>\n",
       "      <td>459</td>\n",
       "    </tr>\n",
       "    <tr>\n",
       "      <th>Campbell High School</th>\n",
       "      <td>407</td>\n",
       "    </tr>\n",
       "    <tr>\n",
       "      <th>Chang High School</th>\n",
       "      <td>171</td>\n",
       "    </tr>\n",
       "  </tbody>\n",
       "</table>\n",
       "</div>"
      ],
      "text/plain": [
       "                        student_count\n",
       "school_name                          \n",
       "Montgomery High School           2038\n",
       "Green High School                1961\n",
       "Dixon High School                1583\n",
       "Wagner High School               1541\n",
       "Silva High School                1109\n",
       "Woods High School                1052\n",
       "Sullivan High School              971\n",
       "Turner High School                846\n",
       "Bowers High School                803\n",
       "Fisher High School                798\n",
       "Richard High School               551\n",
       "Campos High School                541\n",
       "Odonnell High School              459\n",
       "Campbell High School              407\n",
       "Chang High School                 171"
      ]
     },
     "execution_count": 22,
     "metadata": {},
     "output_type": "execute_result"
    }
   ],
   "source": [
    "# Use the `groupby`, `count`, and `sort_values` functions to find the\n",
    "# total number of students at each school and sort from most students to least students.\n",
    "student_number_df = gradeConvert_student_df.groupby(['school_name'])['student_id'].count()\n",
    "sort_student_number_df = student_number_df.sort_values(ascending = False)\n",
    "sort_student_number_df = pd.DataFrame(sort_student_number_df)\n",
    "sort_student_number_df.rename(columns = {'student_id': 'student_count'}, inplace = True)\n",
    "sort_student_number_df"
   ]
  },
  {
   "cell_type": "code",
   "execution_count": 23,
   "id": "3e9018ab-17db-431d-98ef-0c7195b647bb",
   "metadata": {},
   "outputs": [
    {
     "data": {
      "text/html": [
       "<div>\n",
       "<style scoped>\n",
       "    .dataframe tbody tr th:only-of-type {\n",
       "        vertical-align: middle;\n",
       "    }\n",
       "\n",
       "    .dataframe tbody tr th {\n",
       "        vertical-align: top;\n",
       "    }\n",
       "\n",
       "    .dataframe thead th {\n",
       "        text-align: right;\n",
       "    }\n",
       "</style>\n",
       "<table border=\"1\" class=\"dataframe\">\n",
       "  <thead>\n",
       "    <tr style=\"text-align: right;\">\n",
       "      <th></th>\n",
       "      <th></th>\n",
       "      <th>math_score</th>\n",
       "    </tr>\n",
       "    <tr>\n",
       "      <th>school_type</th>\n",
       "      <th>grade</th>\n",
       "      <th></th>\n",
       "    </tr>\n",
       "  </thead>\n",
       "  <tbody>\n",
       "    <tr>\n",
       "      <th rowspan=\"4\" valign=\"top\">Charter</th>\n",
       "      <th>9</th>\n",
       "      <td>70.0</td>\n",
       "    </tr>\n",
       "    <tr>\n",
       "      <th>10</th>\n",
       "      <td>66.0</td>\n",
       "    </tr>\n",
       "    <tr>\n",
       "      <th>11</th>\n",
       "      <td>68.0</td>\n",
       "    </tr>\n",
       "    <tr>\n",
       "      <th>12</th>\n",
       "      <td>60.0</td>\n",
       "    </tr>\n",
       "    <tr>\n",
       "      <th rowspan=\"4\" valign=\"top\">Public</th>\n",
       "      <th>9</th>\n",
       "      <td>64.0</td>\n",
       "    </tr>\n",
       "    <tr>\n",
       "      <th>10</th>\n",
       "      <td>64.0</td>\n",
       "    </tr>\n",
       "    <tr>\n",
       "      <th>11</th>\n",
       "      <td>59.0</td>\n",
       "    </tr>\n",
       "    <tr>\n",
       "      <th>12</th>\n",
       "      <td>64.0</td>\n",
       "    </tr>\n",
       "  </tbody>\n",
       "</table>\n",
       "</div>"
      ],
      "text/plain": [
       "                   math_score\n",
       "school_type grade            \n",
       "Charter     9            70.0\n",
       "            10           66.0\n",
       "            11           68.0\n",
       "            12           60.0\n",
       "Public      9            64.0\n",
       "            10           64.0\n",
       "            11           59.0\n",
       "            12           64.0"
      ]
     },
     "execution_count": 23,
     "metadata": {},
     "output_type": "execute_result"
    }
   ],
   "source": [
    "# Find the average math score by grade for each school type by using the 'groupby' and 'mean' functions\n",
    "schoolType_grade_df = gradeConvert_student_df.groupby(['school_type', 'grade'])\n",
    "average_math_df = schoolType_grade_df[['math_score']].mean()\n",
    "average_math_df = average_math_df.round()\n",
    "average_math_df"
   ]
  },
  {
   "cell_type": "markdown",
   "id": "bbd0576f-e986-457c-930f-0eb8ee435b57",
   "metadata": {},
   "source": [
    "# Deliverable 6: Summarize Your Findings\n",
    "In the cell below, write a few sentences to describe any discoveries you made while performing your analysis along with any additional analysis you believe would be worthwhile."
   ]
  },
  {
   "cell_type": "markdown",
   "id": "396f269c-7081-4e43-a203-0a2750b51fa4",
   "metadata": {},
   "source": [
    "Looking at the High School data I was able to look into student performance as a whole and how schools compare to the average and minimum scores found when analyzing the data. The biggest finding is that while charter schools have less funding overall compared to public schools the charter school math scores are higher in grades 9th through 11th than the public schools. I found out that while Dixon High School has the student with the lowest reading score it also is the third largest school by student count and overall has a strong reading score average in comparison to other schools in our data."
   ]
  }
 ],
 "metadata": {
  "kernelspec": {
   "display_name": "Python 3 (ipykernel)",
   "language": "python",
   "name": "python3"
  },
  "language_info": {
   "codemirror_mode": {
    "name": "ipython",
    "version": 3
   },
   "file_extension": ".py",
   "mimetype": "text/x-python",
   "name": "python",
   "nbconvert_exporter": "python",
   "pygments_lexer": "ipython3",
   "version": "3.7.15"
  }
 },
 "nbformat": 4,
 "nbformat_minor": 5
}
